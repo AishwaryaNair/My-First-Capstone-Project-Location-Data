{
 "cells": [
  {
   "cell_type": "markdown",
   "metadata": {
    "collapsed": true
   },
   "source": [
    "## Final Capstone Project"
   ]
  },
  {
   "cell_type": "markdown",
   "metadata": {},
   "source": [
    "#### Introduction"
   ]
  },
  {
   "cell_type": "markdown",
   "metadata": {},
   "source": [
    "Alex wants to open a Pizza place in one of the neighbourhoods in Washington, D.C.\n",
    "I am going to recommend him the best neighbourhood."
   ]
  },
  {
   "cell_type": "markdown",
   "metadata": {},
   "source": [
    "#### Business Problem"
   ]
  },
  {
   "cell_type": "markdown",
   "metadata": {},
   "source": [
    "We will have no need information about the neighbourhoods in Washington DC for Alex to open his Pizza Place.\n",
    "Additionally, we need to make sure that the neighbourhood he opens the pizza place will have enough customers(we look look at university/ school/ offices data for this) and also make sure there are not a large amount of other pizza places in that neighbourhood."
   ]
  },
  {
   "cell_type": "markdown",
   "metadata": {},
   "source": [
    "#### Data"
   ]
  },
  {
   "cell_type": "markdown",
   "metadata": {},
   "source": [
    "To recommend Alex the best neighbourhood to open a Pizza place, we will leverage the following sources for data\n",
    "\n",
    "- Neighbourhoods in Washington, D.C: https://en.wikipedia.org/wiki/Neighborhoods_in_Washington,_D.C.\n",
    "- The co-rdinates of these neighbourhoods from Open Street Map APIs\n",
    "- Extract following venues data from FourSquare API\n",
    "    - Pizza Place in the neighbourhoods\n",
    "    - College & University \n",
    "    - Offices"
   ]
  }
 ],
 "metadata": {
  "kernelspec": {
   "display_name": "Python 3.5",
   "language": "python",
   "name": "python3"
  },
  "language_info": {
   "codemirror_mode": {
    "name": "ipython",
    "version": 3
   },
   "file_extension": ".py",
   "mimetype": "text/x-python",
   "name": "python",
   "nbconvert_exporter": "python",
   "pygments_lexer": "ipython3",
   "version": "3.5.5"
  }
 },
 "nbformat": 4,
 "nbformat_minor": 1
}
